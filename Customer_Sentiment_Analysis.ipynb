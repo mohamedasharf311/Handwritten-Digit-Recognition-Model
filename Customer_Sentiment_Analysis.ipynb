{
  "cells": [
    {
      "cell_type": "markdown",
      "metadata": {
        "id": "view-in-github",
        "colab_type": "text"
      },
      "source": [
        "<a href=\"https://colab.research.google.com/github/mohamedasharf311/Handwritten-Digit-Recognition-Model/blob/main/Customer_Sentiment_Analysis.ipynb\" target=\"_parent\"><img src=\"https://colab.research.google.com/assets/colab-badge.svg\" alt=\"Open In Colab\"/></a>"
      ]
    },
    {
      "cell_type": "code",
      "source": [
        "import os\n",
        "\n",
        "for root, dirs, files in os.walk(\"/content/drive/MyDrive\"):\n",
        "    for name in dirs:\n",
        "        print(\"Folder:\", os.path.join(root, name))"
      ],
      "metadata": {
        "colab": {
          "base_uri": "https://localhost:8080/"
        },
        "id": "UMwFhM6lBBk3",
        "outputId": "e23dbf30-a0ca-448f-8b04-b571f1035db1"
      },
      "execution_count": null,
      "outputs": [
        {
          "output_type": "stream",
          "name": "stdout",
          "text": [
            "Folder: /content/drive/MyDrive/Colab Notebooks\n",
            "Folder: /content/drive/MyDrive/COVID-19_Radiography_Dataset\n",
            "Folder: /content/drive/MyDrive/Viral Pneumonia\n",
            "Folder: /content/drive/MyDrive/Normal\n",
            "Folder: /content/drive/MyDrive/Lung_Opacity\n",
            "Folder: /content/drive/MyDrive/COVID\n",
            "Folder: /content/drive/MyDrive/Xray_Data_Organized\n",
            "Folder: /content/drive/MyDrive/Viral Pneumonia/masks\n",
            "Folder: /content/drive/MyDrive/Viral Pneumonia/images\n",
            "Folder: /content/drive/MyDrive/Normal/masks\n",
            "Folder: /content/drive/MyDrive/Normal/images\n",
            "Folder: /content/drive/MyDrive/Lung_Opacity/masks\n",
            "Folder: /content/drive/MyDrive/Lung_Opacity/images\n",
            "Folder: /content/drive/MyDrive/COVID/masks\n",
            "Folder: /content/drive/MyDrive/COVID/images\n",
            "Folder: /content/drive/MyDrive/Xray_Data_Organized/COVID\n",
            "Folder: /content/drive/MyDrive/Xray_Data_Organized/Normal\n",
            "Folder: /content/drive/MyDrive/Xray_Data_Organized/Lung_Opacity\n",
            "Folder: /content/drive/MyDrive/Xray_Data_Organized/Viral_Pneumonia\n"
          ]
        }
      ]
    },
    {
      "cell_type": "code",
      "source": [
        "from google.colab import drive\n",
        "drive.mount('/content/drive')"
      ],
      "metadata": {
        "colab": {
          "base_uri": "https://localhost:8080/"
        },
        "id": "cNe_uG1QAiD7",
        "outputId": "08c4b504-325e-4119-b75d-3d330966c1a5"
      },
      "execution_count": 2,
      "outputs": [
        {
          "output_type": "stream",
          "name": "stdout",
          "text": [
            "Mounted at /content/drive\n"
          ]
        }
      ]
    },
    {
      "cell_type": "code",
      "source": [
        "import tensorflow as tf\n",
        "from tensorflow.keras.applications import MobileNetV2\n",
        "from tensorflow.keras.models import Model\n",
        "from tensorflow.keras import layers\n",
        "import matplotlib.pyplot as plt\n",
        "import numpy as np\n",
        "import seaborn as sns\n",
        "from sklearn.metrics import confusion_matrix, classification_report\n",
        "from google.colab import files\n",
        "from tensorflow.keras.preprocessing import image\n",
        "\n",
        "# إعداد البيانات\n",
        "dataset_path = \"/content/drive/MyDrive/Xray_Data_Organized\"\n",
        "batch_size = 32\n",
        "img_size = (224, 224)\n",
        "\n",
        "train_ds = tf.keras.utils.image_dataset_from_directory(\n",
        "    dataset_path,\n",
        "    validation_split=0.2,\n",
        "    subset=\"training\",\n",
        "    seed=123,\n",
        "    image_size=img_size,\n",
        "    batch_size=batch_size\n",
        ")\n",
        "val_ds = tf.keras.utils.image_dataset_from_directory(\n",
        "    dataset_path,\n",
        "    validation_split=0.2,\n",
        "    subset=\"validation\",\n",
        "    seed=123,\n",
        "    image_size=img_size,\n",
        "    batch_size=batch_size\n",
        ")\n",
        "\n",
        "class_names = train_ds.class_names\n",
        "print(\"Classes:\", class_names)\n",
        "\n",
        "AUTOTUNE = tf.data.AUTOTUNE\n",
        "train_ds = train_ds.prefetch(AUTOTUNE)\n",
        "val_ds = val_ds.prefetch(AUTOTUNE)\n",
        "\n",
        "# بناء النموذج\n",
        "base_model = MobileNetV2(input_shape=(224, 224, 3), include_top=False, weights='imagenet')\n",
        "base_model.trainable = True\n",
        "\n",
        "# Fine-tune: نجمد الطبقات الأولى ونفتح آخر 50 فقط\n",
        "for layer in base_model.layers[:-50]:\n",
        "    layer.trainable = False\n",
        "\n",
        "inputs = tf.keras.Input(shape=(224, 224, 3))\n",
        "x = base_model(inputs, training=True)\n",
        "x = layers.GlobalAveragePooling2D()(x)\n",
        "x = layers.Dropout(0.3)(x)\n",
        "x = layers.Dense(128, activation='relu')(x)\n",
        "outputs = layers.Dense(len(class_names), activation='softmax')(x)\n",
        "model = Model(inputs, outputs)\n",
        "\n",
        "# تدريب النموذج\n",
        "model.compile(optimizer=tf.keras.optimizers.Adam(1e-4),\n",
        "              loss='sparse_categorical_crossentropy',\n",
        "              metrics=['accuracy'])\n",
        "\n",
        "history = model.fit(train_ds, validation_data=val_ds, epochs=10)\n",
        "\n",
        "# حفظ النموذج\n",
        "model.save(\"xray_mobilenetv2_model.keras\")\n",
        "\n",
        "# التنبؤ على صورة من الجهاز\n",
        "uploaded = files.upload()\n",
        "for fn in uploaded.keys():\n",
        "    img_path = fn\n",
        "\n",
        "img = image.load_img(img_path, target_size=img_size)\n",
        "img_array = image.img_to_array(img)\n",
        "img_array = tf.expand_dims(img_array, 0)\n",
        "\n",
        "pred = model.predict(img_array)\n",
        "predicted_class = class_names[np.argmax(pred)]\n",
        "confidence = 100 * np.max(pred)\n",
        "\n",
        "plt.imshow(img)\n",
        "plt.title(f\"Prediction: {predicted_class} ({confidence:.2f}%)\")\n",
        "plt.axis(\"off\")\n",
        "plt.show()\n",
        "\n",
        "# Confusion Matrix\n",
        "y_true = []\n",
        "y_pred = []\n",
        "for images, labels in val_ds:\n",
        "    preds = model.predict(images)\n",
        "    y_true.extend(labels.numpy())\n",
        "    y_pred.extend(np.argmax(preds, axis=1))\n",
        "\n",
        "cm = confusion_matrix(y_true, y_pred)\n",
        "plt.figure(figsize=(8, 6))\n",
        "sns.heatmap(cm, annot=True, fmt='d', cmap='Blues',\n",
        "            xticklabels=class_names,\n",
        "            yticklabels=class_names)\n",
        "plt.xlabel(\"Predicted\")\n",
        "plt.ylabel(\"True\")\n",
        "plt.title(\"Confusion Matrix\")\n",
        "plt.show()\n",
        "\n",
        "print(\"\\nClassification Report:\")\n",
        "print(classification_report(y_true, y_pred, target_names=class_names))\n",
        "\n",
        "# تصدير إلى TFLite\n",
        "converter = tf.lite.TFLiteConverter.from_keras_model(model)\n",
        "tflite_model = converter.convert()\n",
        "\n",
        "with open('xray_model.tflite', 'wb') as f:\n",
        "    f.write(tflite_model)\n",
        "\n",
        "print(\"\\nTFLite model saved as 'xray_model.tflite'\")"
      ],
      "metadata": {
        "colab": {
          "base_uri": "https://localhost:8080/"
        },
        "id": "-TwDKM-fk6md",
        "outputId": "106ab3c9-0186-41c6-bfb7-4d9fdce53a11"
      },
      "execution_count": null,
      "outputs": [
        {
          "output_type": "stream",
          "name": "stdout",
          "text": [
            "Found 21181 files belonging to 4 classes.\n",
            "Using 16945 files for training.\n",
            "Found 21181 files belonging to 4 classes.\n",
            "Using 4236 files for validation.\n",
            "Classes: ['COVID', 'Lung_opacity', 'Normal ', 'Viral Pneumonia']\n",
            "Downloading data from https://storage.googleapis.com/tensorflow/keras-applications/mobilenet_v2/mobilenet_v2_weights_tf_dim_ordering_tf_kernels_1.0_224_no_top.h5\n",
            "\u001b[1m9406464/9406464\u001b[0m \u001b[32m━━━━━━━━━━━━━━━━━━━━\u001b[0m\u001b[37m\u001b[0m \u001b[1m0s\u001b[0m 0us/step\n",
            "Epoch 1/10\n",
            "\u001b[1m116/530\u001b[0m \u001b[32m━━━━\u001b[0m\u001b[37m━━━━━━━━━━━━━━━━\u001b[0m \u001b[1m33:06\u001b[0m 5s/step - accuracy: 0.6220 - loss: 0.8861"
          ]
        }
      ]
    }
  ],
  "metadata": {
    "accelerator": "GPU",
    "colab": {
      "gpuType": "T4",
      "provenance": [],
      "authorship_tag": "ABX9TyOS6j4SGDcEFLdVAZV30hKa",
      "include_colab_link": true
    },
    "kernelspec": {
      "display_name": "Python 3",
      "name": "python3"
    },
    "language_info": {
      "name": "python"
    }
  },
  "nbformat": 4,
  "nbformat_minor": 0
}